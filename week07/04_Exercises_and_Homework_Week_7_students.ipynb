{
 "cells": [
  {
   "cell_type": "markdown",
   "metadata": {
    "nbgrader": {
     "grade": false,
     "grade_id": "cell-515e01b25bda86a9",
     "locked": true,
     "schema_version": 3,
     "solution": false,
     "task": false
    }
   },
   "source": [
    "# Exercises and Homework for week 7"
   ]
  },
  {
   "cell_type": "markdown",
   "metadata": {
    "nbgrader": {
     "grade": false,
     "grade_id": "cell-14ca577e70096fbf",
     "locked": true,
     "schema_version": 3,
     "solution": false,
     "task": false
    }
   },
   "source": [
    "## physics718: Programming in Physics and Astronomy with C++ or Python (SS 2022)\n",
    "Nina Stiesdal & Thomas Erben"
   ]
  },
  {
   "cell_type": "markdown",
   "metadata": {
    "nbgrader": {
     "grade": false,
     "grade_id": "cell-58e8949e2e41603c",
     "locked": true,
     "schema_version": 3,
     "solution": false,
     "task": false
    }
   },
   "source": [
    "Homework is due on **Wednesday, 02/06/2022, 23:59pm**\n",
    "\n",
    " * You only learn a programming language by actively praticing and using it! We therefore **strongly** advise you to work on the homework problems.\n",
    " * Please discuss the problems with your student peers and with your tutor.\n",
    " * Your code(s) need(s) to be well and appropriately commented!\n",
    " * Submit this notebook and, if necessary, additional files in a `tar`-archive with name `Homework_7_group_XX.tgz` (replace `XX` with your group number) to your tutor.\n",
    "\n",
    "**Topics of this exercise:**\n",
    " * Two-dimensional `numpy`-arrays - broadcasting\n",
    " * histograms\n",
    " * Monte-Carlo simulations"
   ]
  },
  {
   "cell_type": "markdown",
   "metadata": {},
   "source": [
    "**Your group number here please:**  Group XX"
   ]
  },
  {
   "cell_type": "markdown",
   "metadata": {},
   "source": [
    "## 1. Lecture Review (0 points)"
   ]
  },
  {
   "cell_type": "markdown",
   "metadata": {},
   "source": [
    "If you did the lecture review questions [03_Lecture_Review.ipynb](03_Lecture_Review.ipynb) (strongly recommended!): \n",
    "Please discuss with your tutor and your group any issues/problems you had with them."
   ]
  },
  {
   "cell_type": "markdown",
   "metadata": {
    "tags": []
   },
   "source": [
    "## 2. Magnitudes of Optical Imaging data (10 points)\n",
    "\n",
    "In astronomy, optical imaging data are observed in well-defined parts of the electromagnetic spectrum. Typical broad-band filters are $B$ (blue; around $450$ nm), $R$ (red; around 650 nm) and $I$ (infrared; around 800 nm). One of the more difficult tasks during processing of optical data is to calibrate the brightness (or the magnitudes) of astronomical data. It is usually easire to calibrate some bands than others.\n",
    "\n",
    "The figure below shows in the left panel two *colours* of stellar sources (a colour is just the difference of the magnitudes in two bands, e.g. $B-R$). The blue points are the data and the red points model predictions for the colours. We note that there is a difference between model and data that primarily originates from calibration errors in the data.\n",
    "\n",
    "We assume that the $R$-band has a good calibration and the errors originate from problems in the $B$ and $I$ bands. If we apply *optimal shifts* (defined below) to the $B$ and $I$ magnitudes, we obtain the right panel of the figure below.\n",
    "\n",
    "Your task is to write a program to estimate these shifts for the $B$ and $I$ band magnitudes."
   ]
  },
  {
   "cell_type": "markdown",
   "metadata": {},
   "source": [
    "![SLR](figs/SLR.png)"
   ]
  },
  {
   "cell_type": "markdown",
   "metadata": {},
   "source": [
    "### The algorithm\n",
    "We separately want to estimate necessary shifts for the $B$ and $I$ band magnitudes to match the model and the data magnitudes. The idea to do so is the following:\n",
    "\n",
    "- We have arrays $d$ and $m$ with the $B-R$-colours from the data and the model respectively.\n",
    "- We calculate the distance from *each point* in the $d$-array to *each point* in the $m$-array and we analyse all the obtained distances in a histogram. For the program data, I obtain the following histogram for the $B-R$ case:"
   ]
  },
  {
   "cell_type": "markdown",
   "metadata": {},
   "source": [
    "<img src=\"figs/bmr_histo.png\" style=\"width: 400px;\" style=\"height: 200px;\">"
   ]
  },
  {
   "cell_type": "markdown",
   "metadata": {},
   "source": [
    "- The *optimal* shift is given by the highest histogram bin. "
   ]
  },
  {
   "cell_type": "markdown",
   "metadata": {
    "tags": []
   },
   "source": [
    "### The program plan\n",
    "1. **Before you start any coding:**\n",
    "  Please be sure to understand the scientific problem and the algorithm to solve it.\n",
    "  If you are unsure, please contact Nina or myself **well in advance** of the homework deadline! Please answer below the following questions: *Why do we use a histogram analysis for the given problem? Why can't we just calculate all the distance and take the distance appearing most often as an estimate for our shift? What physical meaning does the bin-width of the histogram have for our problem? How large would you choose the bin-width?*\n",
    "2. In the files [data/stars_BRI_data.asc](data/stars_BRI_data.asc) and [data/stars_BRI_model.asc](data/stars_BRI_model.asc) you find the magnitudes of stars for data and model.\n",
    "3. Read in the data into your program and reproduce as a first step the $B-R$ vs. $R-I$ plot for the uncorrected data.\n",
    "4. Create an array `bmr_distances` containg the distances from *all* $B-R$ model points to *all* $B-R$ data points.\n",
    "\n",
    "  **Hint:** This is a *one-line* broadcasting task! It is very easy if you understand the *Route 66* problem of the Review questions sheet!\n",
    "5. Analyse the `bmr_distances`.array with the `np.histogram` function to obtain the optical shift to bring data and model into accordance.\n",
    "\n",
    "  **Hints:**\n",
    "  - Read carefully the documentation for the `np.histogram`-function. What does it return?\n",
    "  - Use a histogram bin-width of 0.05. This is approximately the accuracy that we can reach with the proposed magnitude-correction method.\n",
    "  - To determine the highest bin of the histogram you can use the `np.argmax` function. Read its documentation!\n",
    "  - For checking purposes, you can plot your histogram with the `plt.hist`-function. It has exactly the same syntax and functionality as `np.histogram`!\n",
    "6. Repeast steps (4) and (5) for the $R-I$ colour\n",
    "7. Apply the obtained corrections to your data and reproduce the right panel of the plot above.\n",
    "8. Discuss your results!"
   ]
  },
  {
   "cell_type": "code",
   "execution_count": null,
   "metadata": {},
   "outputs": [],
   "source": [
    "# your solution here please"
   ]
  },
  {
   "cell_type": "markdown",
   "metadata": {
    "tags": []
   },
   "source": [
    "## 3. Monte-Carlo Error Propagation\n",
    "\n",
    "You have likely encountered the concept of propagation of uncertainty before in some lab-courses (see [the usual rules here](http://en.wikipedia.org/wiki/Propagation_of_uncertainty#Example_formulas)). The idea is that given measurements with uncertainties, we can find the uncertainty on the final result of an equation.\n",
    "\n",
    "For example, let us consider the following equation:\n",
    "\n",
    "$$F = \\frac{G~M_1~M_2}{r^2}$$\n",
    "\n",
    "which gives the gravitational force between two masses $M_1$ and $M_2$ separated by a distance $r$.\n",
    "\n",
    "Let us now imagine that we have two masses:\n",
    "\n",
    "$$M_1=40\\times10^4\\pm0.05\\times10^4\\rm{kg}$$\n",
    "\n",
    "and\n",
    "\n",
    "$$M_2=30\\times10^4\\pm0.1\\times10^4\\rm{kg}$$\n",
    "\n",
    "separated by a distance:\n",
    "\n",
    "$$r=3.2\\pm0.011~\\rm{m}$$\n",
    "\n",
    "where the uncertaintes are the standard deviations of Gaussian distributions which could be e.g. measurement errors.\n",
    "\n",
    "We also know:\n",
    "\n",
    "$$G = 6.67384\\times10^{-11}~\\rm{m}^3~\\rm{kg}^{-1}~\\rm{s}^{-2}$$\n",
    "\n",
    "(exact value, no uncertainty)\n",
    "\n",
    "Use the [standard error propagation rules](http://en.wikipedia.org/wiki/Propagation_of_uncertainty#Example_formulas) to determine the resulting force and uncertainty in a `python`-program (you can just derive the equation by hand and implement it in a single line in your code).\n",
    "\n",
    "Now, we can try using a **Monte-Carlo** technique instead. The idea behind Monte-Carlo techniques is to generate many possible solutions using random numbers and using these to look at the overall results. In the above case, you can propagate uncertainties with a Monte-Carlo method by doing the following:\n",
    "\n",
    "* randomly sample values of $M_1$, $M_2$, and $r$, 1000000 times, using the means and standard deviations given above\n",
    "  **Hint:** You can get random numbers which are distributed according to the normal (Gaussian) distribution with the `normal` command within the `numpy.random` module.\n",
    "\n",
    "* compute the gravitational force for each set of values\n",
    "\n",
    "You should do this with Numpy arrays, and **without any loops**. You should then get an array of 1000000 different values for the forces.\n",
    "\n",
    "Make a plot of the normalized histogram of these values of the force, and then overplot a Gaussian function with the mean and standard deviation derived with the standard error propagation rules. Make sure that you pick the range of x values in the plot wisely, so that the two distributions can be seen. Make sure there are also a sensible number of bins in the histogram so that you can compare the shape of the histogram and the Gaussian function. The two distributions should agree pretty well.\n",
    "\n",
    "For your reference, here is the plot that I obtain for this part of the exercise:\n",
    "\n",
    "<img src=\"figs/monte_carlo_force.png\" style=\"width: 400px;\" style=\"height: 400px;\">\n",
    "\n",
    "The blue bars are the normalized histogram of my Monte-Carlo simulated forces. The red curve gives the Gaussian prediction for these forces from standard error propagation.  "
   ]
  },
  {
   "cell_type": "markdown",
   "metadata": {},
   "source": [
    "Now repeat the experiment above with the following values:\n",
    "\n",
    "$$M_1=40\\times10^4\\pm 8\\times10^4\\rm{kg}$$\n",
    "$$M_2=30\\times10^4\\pm 6\\times10^4\\rm{kg}$$\n",
    "$$r=3.2\\pm 0.6~\\rm{m}$$\n",
    "\n",
    "and as above, produce a plot.\n",
    "\n",
    "In this case, which method do you think is more accurate? Why? What do you think are the advantages of using a Monte-Carlo technique?"
   ]
  },
  {
   "cell_type": "code",
   "execution_count": 38,
   "metadata": {},
   "outputs": [
    {
     "data": {
      "image/png": "[encoded data removed]",
      "text/plain": [
       "<Figure size 432x288 with 1 Axes>"
      ]
     },
     "metadata": {
      "needs_background": "light"
     },
     "output_type": "display_data"
    },
    {
     "data": {
      "image/png": "[encoded data removed]",
      "text/plain": [
       "<Figure size 432x288 with 1 Axes>"
      ]
     },
     "metadata": {
      "needs_background": "light"
     },
     "output_type": "display_data"
    }
   ],
   "source": [
    "import numpy as np\n",
    "import matplotlib.pyplot as plt\n",
    "import scipy.stats\n",
    "\n",
    "def errorPropagation(g , m1, m1er, m2, m2er, r, rer):\n",
    "    return g *  np.sqrt(np.power(m2 * m1er / np.power(r, 2), 2) + np.power(m1 * m2er / np.power(r,2),2) + np.power(2 *m2 * m1 * rer / np.power(r,3), 2))\n",
    "\n",
    "def force(g, m1, m2, r):\n",
    "    return g*m1*m2/np.power(r,2)\n",
    "\n",
    "m1 = 400000\n",
    "m1er = 500\n",
    "m2 = 300000\n",
    "m2er = 1000\n",
    "r = 3.2\n",
    "rer = 0.011\n",
    "g = float(6.67384e-11) \n",
    "nsamples = 1000000\n",
    "\n",
    "monteCarlo = force(g, np.random.normal(m1,m1er, nsamples), np.random.normal(m2,m2er, nsamples), np.random.normal(r,rer, nsamples))\n",
    "\n",
    "\n",
    "plt.hist(monteCarlo, density = True, bins= 40)\n",
    "xVal = np.linspace(np.min(monteCarlo),np.max(monteCarlo), 100)\n",
    "plt.plot(xVal, scipy.stats.norm(force(g, m1, m2, r), errorPropagation(g, m1, m1er, m2,m2er, r, rer)).pdf(xVal))\n",
    "plt.xlabel(\"Force\")\n",
    "plt.ylabel(\"Frequency\")\n",
    "plt.show()\n",
    "\n",
    "\n",
    "# new errors\n",
    "m1 = 400000\n",
    "m1er = 8e4\n",
    "m2 = 300000\n",
    "m2er = 6e4\n",
    "r = 3.2\n",
    "rer = 0.6\n",
    "g = float(6.67384e-11) \n",
    "nsamples = 1000000\n",
    "\n",
    "monteCarlo = force(g, np.random.normal(m1,m1er, nsamples), np.random.normal(m2,m2er, nsamples), np.random.normal(r,rer, nsamples))\n",
    "\n",
    "\n",
    "plt.hist(monteCarlo, density = True, bins= 100, range=[-1,5])\n",
    "xVal = np.linspace(-1,5, 100)\n",
    "plt.plot(xVal, scipy.stats.norm(force(g, m1, m2, r), errorPropagation(g, m1, m1er, m2,m2er, r, rer)).pdf(xVal))\n",
    "plt.xlabel(\"Force\")\n",
    "plt.ylabel(\"Frequency\")\n",
    "plt.show()"
   ]
  },
  {
   "cell_type": "markdown",
   "metadata": {},
   "source": [
    "For the error propagation formula to be a good approximation, we have to assume the errors to be small, since we use the taylor expansion in the derivation of the formula. We  can see that it holds in the first case, but fails in the second case. There The errors are too big to assume a gaussian distribution of the force, thus making the gaussian error propagation inappropriate to use."
   ]
  }
 ],
 "metadata": {
  "celltoolbar": "Create Assignment",
  "interpreter": {
   "hash": "916dbcbb3f70747c44a77c7bcd40155683ae19c65e1c03b4aa3499c5328201f1"
  },
  "kernelspec": {
   "display_name": "Python 3.8.10 64-bit",
   "language": "python",
   "name": "python3"
  },
  "language_info": {
   "codemirror_mode": {
    "name": "ipython",
    "version": 3
   },
   "file_extension": ".py",
   "mimetype": "text/x-python",
   "name": "python",
   "nbconvert_exporter": "python",
   "pygments_lexer": "ipython3",
   "version": "3.10.4"
  }
 },
 "nbformat": 4,
 "nbformat_minor": 4
}
