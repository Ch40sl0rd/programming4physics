{
 "cells": [
  {
   "cell_type": "markdown",
   "metadata": {
    "nbgrader": {
     "grade": false,
     "grade_id": "cell-515e01b25bda86a9",
     "locked": true,
     "schema_version": 3,
     "solution": false,
     "task": false
    }
   },
   "source": [
    "# Exercises and Homework for week 9"
   ]
  },
  {
   "cell_type": "markdown",
   "metadata": {
    "nbgrader": {
     "grade": false,
     "grade_id": "cell-14ca577e70096fbf",
     "locked": true,
     "schema_version": 3,
     "solution": false,
     "task": false
    }
   },
   "source": [
    "## physics718: Programming in Physics and Astronomy with C++ or Python (SS 2022)\n",
    "Nina Stiesdal & Thomas Erben"
   ]
  },
  {
   "cell_type": "markdown",
   "metadata": {
    "nbgrader": {
     "grade": false,
     "grade_id": "cell-58e8949e2e41603c",
     "locked": true,
     "schema_version": 3,
     "solution": false,
     "task": false
    }
   },
   "source": [
    "Homework is due on **Wednesday, 23/06/2022, 23:55pm**\n",
    "\n",
    " * You only learn a programming language by actively praticing and using it! We therefore **strongly** advise you to work on the homework problems.\n",
    " * Please discuss the problems with your student peers and with your tutor.\n",
    " * Your code(s) need(s) to be well and appropriately commented!\n",
    " * Submit this notebook and, if necessary, additional files in a `tar`-archive with name `Homework_9_group_XX.tgz` (replace `XX` with your group number) to your tutor.\n",
    "\n",
    "**Topics of this exercise:**\n",
    " * Curve fitting\n",
    " * differential equations"
   ]
  },
  {
   "cell_type": "markdown",
   "metadata": {},
   "source": [
    "**Your group number here please:**  Group 21"
   ]
  },
  {
   "cell_type": "markdown",
   "metadata": {},
   "source": [
    "## 1. Lecture Review (0 points)"
   ]
  },
  {
   "cell_type": "markdown",
   "metadata": {},
   "source": [
    "If you did the lecture review questions [03_Lecture_Review.ipynb](03_Lecture_Review.ipynb) (strongly recommended!): \n",
    "Please discuss with your tutor and your group any issues/problems you had with them."
   ]
  },
  {
   "cell_type": "markdown",
   "metadata": {},
   "source": [
    "## 2. Temperature of the cosmic microwave background (10 points)"
   ]
  },
  {
   "cell_type": "markdown",
   "metadata": {},
   "source": [
    "The file [data/Cobe.txt](data/Cobe.txt) contains data from the [COBE satellite](http://lambda.gsfc.nasa.gov/product/cobe/). It shows the spectrum of the cosmic microwave background. The first row gives the\n",
    "frequency (actually the inverse of the wavelength in 1/cm), the second row the spectrum in MJy/sr (MJy:\n",
    "Mega-Jansky, 1 Jy= $10^{-26}$ W/Hz m2 ; sr: Steradian), so it is a measure of the spectral flux per solid\n",
    "angle. The third row shows the uncertainty on the spectrum in kJy/sr.\n",
    "Use `scipy.optimize.curve_fit` to perform a fit to the data. The function describing the data is the Planck law\n",
    "$f(x) = \\frac{A_0 x3}{exp(1.439x/T )-1}$, where $x$ is the frequency in 1/cm. $A_0$ and $T$ are the fit parameters, where $A_0$ is the amplitude and $T$ the temperature of the universe. The factor 1.439 K cm comes from $hc/k_B$ in the chosen unit frame. Determine from the fit how hot the universe is. "
   ]
  },
  {
   "cell_type": "markdown",
   "metadata": {},
   "source": [
    "- Read in the data and plot the data with their errorbars\n",
    "\n",
    "  **Hints:**\n",
    "  - Please read carefully the comments in the data-file. What is given in the different columns in *which* units!\n",
    "  - You use use the function `plt.errorbar` for this task.\n",
    "- Fit the Planck function $f(x)$ to the data and determine the temperature of the Universe.\n",
    "- Include a plot of the best-fit curve in the errorbar-plot."
   ]
  },
  {
   "cell_type": "code",
   "execution_count": 31,
   "metadata": {
    "tags": []
   },
   "outputs": [
    {
     "data": {
      "image/png": "[encoded data removed]",
      "text/plain": [
       "<Figure size 432x288 with 1 Axes>"
      ]
     },
     "metadata": {
      "needs_background": "light"
     },
     "output_type": "display_data"
    },
    {
     "name": "stdout",
     "output_type": "stream",
     "text": [
      "According to this data, the temperature of the universe is 2.72543 +- 0.00003 K\n"
     ]
    }
   ],
   "source": [
    "# your solution here\n",
    "import numpy as np\n",
    "import matplotlib.pyplot as plt\n",
    "import scipy.optimize as so\n",
    "\n",
    "#define input file\n",
    "filename = 'data/Cobe.txt'\n",
    "#read data from file\n",
    "data = np.loadtxt(filename)\n",
    "\n",
    "#extract frequencies from file\n",
    "freqs = data[:,0]\n",
    "#and spectrum\n",
    "spectrum = data[:,1]\n",
    "#and error of spectrum and convert to same units as the spectrum itself\n",
    "sigma_spectrum = data[:,2]*1e-3\n",
    "\n",
    "#define plank spectrum function\n",
    "f = lambda x, a0, t: a0*np.power(x,3)/(np.exp(1.439*x/t)-1)\n",
    "#fit planck spectrum to data points\n",
    "params, errors = so.curve_fit(f, freqs, spectrum, sigma=sigma_spectrum, absolute_sigma=True)\n",
    "\n",
    "#create array of frequencies for plotting\n",
    "x = np.linspace(freqs[0], freqs[-1], 300)\n",
    "\n",
    "#plot data as errorbar plot, enlarge errors by factor 100\n",
    "plt.errorbar(freqs, spectrum, yerr=sigma_spectrum*100, fmt='.', label='data, $\\sigma$ x 100')\n",
    "#plot best fitted spectrum\n",
    "plt.plot(x, f(x,*params), '-', label='fitted curve')\n",
    "plt.xlabel('invers wavelength f / cm$^{-1}$')\n",
    "plt.ylabel('spectral flux per solid angle / MJy/sr')\n",
    "plt.title('spectral flux of the cosmic microwave background')\n",
    "plt.grid()\n",
    "plt.legend()\n",
    "plt.show()\n",
    "\n",
    "#print out results from curve_fit for temperature of the universe\n",
    "print(f'According to this data, the temperature of the universe is {params[1]:.5f} +- {np.sqrt(np.diag(errors))[1]:.5f} K')"
   ]
  },
  {
   "cell_type": "markdown",
   "metadata": {
    "tags": []
   },
   "source": [
    "## 3. Felix Baumgartners drop (20 points)\n",
    "\n",
    "**This homework is based on a project from Ludovic van Waerbeke**\n",
    "\n",
    "<img src=\"figs/baumgartner.jpg\" style=\"height: 200px;\">\n",
    "\n",
    "**Important: This task needs to be solved with a `Python` script which can be executed on the `Linux` command line! Notebook solutions will *not* be graded and counted with 0 points!**\n",
    "\n",
    "In October 2012, Felix Baumgartner broke the world record of skydiving at that time, by jumping from an altitude of 39 km and reaching a maximum speed of 1357 km/h. In this problem you will calculate Baumgartner's trajectory by solving numerically the free fall equation, taking into account the varying air density and the varying drag coefficient. We will have to make some simplifying assumptions which will prevent us from reproducing the exact characteristics of his jump, but we will get a good idea of what happened.\n",
    "\n",
    "For this exercise we will look at a one-dimensional free fall case with a drag term that is proportional to velocity square. This is realistic for high speed situations. The equation of motion is:\n",
    "$$\n",
    "m\\ddot{z}=mg-\\frac 12 \\rho(z)C_D(z)A(t)\\dot{z}^2,\n",
    "$$\n",
    "where $z$ is Baumgartners space-coordinate with $z=0$ at the surface of the Earth. His jump starts at $z_0=39$ km.\n",
    "$m$ is the mass of the jumper, $\\rho(z)$ the air density, $C_D(z)$ \n",
    "the drag coefficient and $A(t)$ the jumper’s cross-section.\n",
    "\n",
    "Baumgartners jump has two phases:\n",
    "1. Phase 1 is the free-fall with the parachute closed. Phase 1 starts at $z_0=39$ km and ens at about $z_P\\approx 2$ km. Additional parameters of tis phase are: $g=9.8$ ms$^{-2}$ (we assume this as constant!), $m=118$ kg, $C_D(z)=0.3$ and $A(t)=0.9$ m$²$. The air density depends on the space-coordinate $z$ via $\\rho(z) = 1.22\\exp(-\\frac z{10\\text{ km}})$ kg m$^{-3}$.\n",
    "\n",
    "2. Phase 2 starts when the parachute is opened at $z_P\\approx 2$ km. The parameters of that phase of the jump are: $g=9.8$ ms$^{-2}$, $m=118$ kg, $C_D(z)=1.5$ and $\\rho(z)=1.22$ kg m$^{-3}$ (const). The crosssection $A(t)$ is now determined by the parachute and we must take into account that it takes some seconds to open it completely. We model this by:\n",
    "\n",
    "$$\n",
    "A(t)=1+50\\left(\\frac{1-\\exp(-(t-t_F)/5\\text{s})}{1+\\exp(-(t-t_F)/5\\text{s})}\\right)\\text{m}^2.\n",
    "$$"
   ]
  },
  {
   "cell_type": "markdown",
   "metadata": {},
   "source": [
    "**Your tasks:**\n",
    "1. Implement Felixs drop in a script with name `skydive_group_X.py` and create plots of the jump for $z(t)$ and $\\dot{z}(t)$. The initial conditions are $z(0)=z_0=39$ km and $\\dot{z}(0)=0$ m/s. The jump ends at $z(t_e)=0$ m.\n",
    "2. Answer within a textfile `skydive_group_X.txt` the following questions:\n",
    "  1. What is the maximal (absolute) velocity that Felix reaches with our model?\n",
    "  2. What is his speed when he reaches the surface of the Earth?\n",
    "  3. How long did the complete jump last?\n",
    "  4. Why does Felixs speed at the start of the jump raise quickly but slows down already before he opens his parachute?\n",
    "\n",
    "**Hints**: (1) You need to solve *two* differential equations. One for phase 1 ($0\\leq t\\leq t_F$) of the jump and the other one for phase 2 ($t_F<t\\leq t_e$). The solution of the equation for phase 1 at $z(t_P)$ determines the initial conditions for the ODE of phase2!; (2) For the final plots you need to *combine* the two solutions; (3) Test your pogram by checking your solution for plausibility. The jump should not last for hours and nobody survives a crash on the Earth with $v=100$ m/s etc."
   ]
  },
  {
   "cell_type": "code",
   "execution_count": null,
   "metadata": {},
   "outputs": [],
   "source": []
  }
 ],
 "metadata": {
  "celltoolbar": "Create Assignment",
  "kernelspec": {
   "display_name": "Python 3 (ipykernel)",
   "language": "python",
   "name": "python3"
  },
  "language_info": {
   "codemirror_mode": {
    "name": "ipython",
    "version": 3
   },
   "file_extension": ".py",
   "mimetype": "text/x-python",
   "name": "python",
   "nbconvert_exporter": "python",
   "pygments_lexer": "ipython3",
   "version": "3.9.10"
  }
 },
 "nbformat": 4,
 "nbformat_minor": 4
}
