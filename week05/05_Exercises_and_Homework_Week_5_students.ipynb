{
 "cells": [
  {
   "cell_type": "markdown",
   "metadata": {
    "nbgrader": {
     "grade": false,
     "grade_id": "cell-515e01b25bda86a9",
     "locked": true,
     "schema_version": 3,
     "solution": false,
     "task": false
    }
   },
   "source": [
    "# Exercises and Homework for week 5"
   ]
  },
  {
   "cell_type": "markdown",
   "metadata": {
    "nbgrader": {
     "grade": false,
     "grade_id": "cell-14ca577e70096fbf",
     "locked": true,
     "schema_version": 3,
     "solution": false,
     "task": false
    }
   },
   "source": [
    "## physics718: Programming in Physics and Astronomy with C++ or Python (SS 2022)\n",
    "Nina Stiesdal & Thomas Erben"
   ]
  },
  {
   "cell_type": "markdown",
   "metadata": {
    "nbgrader": {
     "grade": false,
     "grade_id": "cell-58e8949e2e41603c",
     "locked": true,
     "schema_version": 3,
     "solution": false,
     "task": false
    }
   },
   "source": [
    "Homework is due on **Wednesday, 18/05/2022, 23:59pm**\n",
    "\n",
    " * You only learn a programming language by actively praticing and using it! We therefore **strongly** advise you to work on the homework problems.\n",
    " * Please discuss the problems with your student peers and with your tutor.\n",
    " * Your code(s) need(s) to be well and appropriately commented!\n",
    " * Submit this notebook and, if necessary, additional files in a `tar`-archive with name `Homework_5_group_XX.tgz` (replace `XX` with your group number) to your tutor.\n",
    "\n",
    "**Topics of this exercise:**\n",
    " * Two-dimensional `numpy`-arrays\n",
    " * Python lists and strings\n",
    " * 1D and 2D plots with matplotlib"
   ]
  },
  {
   "cell_type": "markdown",
   "metadata": {},
   "source": [
    "**Your group number here please:**  Group 2-1"
   ]
  },
  {
   "cell_type": "markdown",
   "metadata": {},
   "source": [
    "## 1. Lecture Review (0 points)"
   ]
  },
  {
   "cell_type": "markdown",
   "metadata": {},
   "source": [
    "If you did the lecture review questions [03_Lecture_Review.ipynb](03_Lecture_Review.ipynb) (strongly recommended!): \n",
    "Please discuss with your tutor and your group any issues/problems you had with them."
   ]
  },
  {
   "cell_type": "markdown",
   "metadata": {},
   "source": [
    "## 2. Plots of vector fields (0 points)\n",
    "Please study the notebook [04_vector_fields_matplotlib.ipynb](04_vector_fields_matplotlib.ipynb) to plot vector fields with `matplotlib`. You will need it in task 3."
   ]
  },
  {
   "cell_type": "markdown",
   "metadata": {
    "tags": []
   },
   "source": [
    "<a id='plate_condensator'></a>\n",
    "## 3. Electric field of a parallel-plate condensator (15 points)\n",
    "You learned about the parallel-plate condensator and its electric field in your experimental and theoretical physics classes. To start, you assume that the electric field within the condensator is homegeneous within the condensator:\n",
    "<img src=\"figs/condensator_simple.png\" style=\"height: 200px;\">"
   ]
  },
  {
   "cell_type": "markdown",
   "metadata": {},
   "source": [
    "In this exercise, we want to calculate the electric field within a bounded, two-dimensional region. You know from your theoretical physics classes that the electrical field $\\vec{E}(x, y)$ within a region, free of charges, can be obtained from the electric potential $\\Phi(x, y)$ via $\\vec{E}(x, y)=-\\nabla\\Phi(x, y)$. The electric potential in turn is covered by the two-dimensial Laplace equation:\n",
    "$$\n",
    "\\Delta \\Phi(x, y)=0.\n",
    "$$\n",
    "Please have a look at [Wikipedia](https://en.wikipedia.org/wiki/Mathematical_descriptions_of_the_electromagnetic_field) if you would like to fresh up your knowledge on electric fields, Maxwells equations and the like.\n",
    "\n",
    "The setup for this exercise is as follows:\n",
    "\n",
    "<img src=\"figs/condensator_layout.png\" style=\"height: 300px;\">"
   ]
  },
  {
   "cell_type": "markdown",
   "metadata": {},
   "source": [
    "We are given a bounded region as shown above and two condensator plates whose electric potentials are constant at $\\Phi=\\pm 1$. The potential at the boundary is constant at zero. To justify the latter condition, the condensator plates must be away far enough from the boundaries. For our purposes, the configuration above fulfills this condition. \n",
    "\n",
    "Your task is to determine the potential in the interior such that it fulfills the boundary conditions and $\\Delta\\Phi(x,y)=0$ everywhere else."
   ]
  },
  {
   "cell_type": "markdown",
   "metadata": {
    "tags": []
   },
   "source": [
    "### An iteration scheme to solve Laplaces equation with boundary conditions\n",
    "For our setup, we can numerically solve the equation $\\Delta\\Phi(x, y)=0$ in a region with boundary conditions as follows:\n",
    "1. We put a regular, two-dimensional grid of points on our region. Individual points are separated in $x$ and $y$ by $h_x$ and $h_y$ respectively. We will assume henceforth that $h=h_x=h_y$.\n",
    "2. $$ \\Delta\\Phi(x, y) = \\frac{\\partial}{\\partial x^2}\\Phi(x, y) + \\frac{\\partial}{\\partial y^2}\\Phi(x, y).$$\n",
    "We can numerically approximate the second derivatives via:\n",
    "$$\n",
    "\\frac{\\partial}{\\partial x^2}\\Phi(x, y) = \\frac{\\Phi(x+h, y)-2\\Phi(x, y)+\\Phi(x-h,y)}{h^2} + \\cal{O}(h^2)\n",
    "$$\n",
    "and similarily\n",
    "$$ \\frac{\\partial}{\\partial y^2}\\Phi(x, y) = \\frac{\\Phi(x, y+h)-2\\Phi(x, y)+\\Phi(x,y-h)}{h^2} + \\cal{O}(h^2)\n",
    "$$\n",
    "With $\\Delta\\Phi(x, y)=0$, we obtain by neglecting higher-order terms:\n",
    "$$\n",
    "\\Phi(x, y) = \\frac 14(\\Phi(x+h, y) + \\Phi(x-h, y) + \\Phi(x, y+h) + \\Phi(x, y-h)).\n",
    "$$\n",
    "3. The formulas in (2.) allow us the construction of an iteration scheme:\n",
    "  1. Set $\\Phi_0(x, y)$ to fulfill the boundary conditions and set it equal to zero everywhere else.\n",
    "  2. Calculate $\\Phi_1(x, y) = \\frac 14(\\Phi_0(x+h, y) + \\Phi_0(x-h, y) + \\Phi_0(x, y+h) + \\Phi_0(x, y-h))$. Hereby, you need to ensure that $\\Phi_1(x, y)$ still fulfills the boundary conditions!\n",
    "  3. Repeat step (2.). i.e. calculate $\\Phi_{n+1}(x, y) = \\frac 14(\\Phi_n(x+h, y) + \\Phi_n(x-h, y) + \\Phi_n(x, y+h) + \\Phi_n(x, y-h))$ until you reach convergence. We want to define convergence via $\\max \\left|\\Phi_{n+1}(x, y) - \\Phi_{n}(x, y)\\right| < 1.0\\cdot 10^{-4}$, where the maximum is taken over all grid-points."
   ]
  },
  {
   "cell_type": "markdown",
   "metadata": {},
   "source": [
    "### Your tasks"
   ]
  },
  {
   "cell_type": "markdown",
   "metadata": {},
   "source": [
    "Please write a program to implement the scheme above and to visualise the electric field of the parallel-plate condensator.\n",
    "\n",
    "1. Define your two-dimensional coordinate grid as shown above with 101 points in the $x$ and the $y$ dimensions.\n",
    "\n",
    "   **Note:** 101 points ensure a nice coverage of the interval $[0, 1]$ with points when using `np.linspace(0.0, 1.0, 101)`. To make this clear, consider the lower resolution case with 11 points:\n",
    "   ```\n",
    "   a = np.linspace(0.0, 1.0, 11)\n",
    "   print(a)\n",
    "   array([ 0. ,  0.1,  0.2,  0.3,  0.4,  0.5,  0.6,  0.7,  0.8,  0.9,  1. ])\n",
    "   ```\n",
    "2. I placed my condensator plates at $x_{left}=0.35$ and $x_{right}=0.65$. The extent in $y$ is $y_{low} = 0.35$ and $y_{high}=0.65$ but please feel free to experiment with other choices.\n",
    "3. Implement the iteration scheme above *without* any `for`-loops over the grid points but use `numpy`-slicing instead!\n",
    "4. Once you have estimated the potential $\\Phi(x,y)$, calculate the electric field via $\\vec{E}(x, y)=-\\nabla\\Phi(x, y)$ and visualise it. Please have a look at [this notebook](04_vector_fields_matplotlib.ipynb) to learn some basics on vector-plots with `matplotlib`."
   ]
  },
  {
   "cell_type": "code",
   "execution_count": 1,
   "metadata": {},
   "outputs": [],
   "source": [
    "# Your solution here please\n",
    "import numpy as np\n",
    "import matplotlib.pyplot as plt\n",
    "\n",
    "#number of discret points in x and y direction\n",
    "num_points=101\n",
    "#arrays for x and y coordinates\n",
    "x = np.linspace(0, 1, num_points)\n",
    "y = np.linspace(0, 1, num_points)\n",
    "\n",
    "#create meshgrids for later plotting\n",
    "X,Y = np.meshgrid(x,y)\n",
    "#create grid for potential\n",
    "phi = np.zeros((num_points, num_points))\n",
    "#define positions of capacitor plates\n",
    "x_left = 0.3\n",
    "x_right = 0.7\n",
    "y_min = 0.3\n",
    "y_max = 0.7\n",
    "#mask for placement of capacitor plates in y direction\n",
    "boundary_mask_y = np.logical_and(y>=y_min,y <= y_max)\n",
    "\n",
    "#apply boundray conditions\n",
    "#phi(x=x_left) = -1\n",
    "phi[boundary_mask_y, np.isclose(x,x_left)] = -1\n",
    "#phi(x=x_right) = 1\n",
    "phi[boundary_mask_y, np.isclose(x,x_right)] = 1\n",
    "#boundary condition 0 at the outer edge\n",
    "phi[ 0:,[0,-1 ]] = 0.0\n",
    "phi[[0,-1], 0:] = 0.0\n",
    "\n",
    "#save phi_0 for later visualization\n",
    "phi_0 = phi\n",
    "\n",
    "#calcualte phi_n up until convergence\n",
    "delta = 1\n",
    "while delta > 1e-4:\n",
    "    phi_n = np.zeros(phi.shape)\n",
    "    #calcualte the potential for inner values of the grid, excludes outer bounds\n",
    "    phi_n[1:-1,1:-1] = 0.25*( phi[2:,1:-1] + phi[:-2, 1:-1] + phi[1:-1,2:] + phi[1:-1,:-2] )\n",
    "    \n",
    "    #apply boundary conditions\n",
    "    phi_n[boundary_mask_y, np.isclose(x,x_left)] = -1\n",
    "    #phi(x=x_right) = 1\n",
    "    phi_n[boundary_mask_y, np.isclose(x,x_right)] = 1\n",
    "    #boundary condition 0 at the outer edge\n",
    "    #this step is not strictly necessary, but it ensures all boundary conditions are fullfilled\n",
    "    phi_n[ 0:,[0,-1 ]] = 0.0\n",
    "    phi_n[[0,-1], 0:] = 0.0\n",
    "    #calculate maximum delta\n",
    "    delta = np.max(np.abs(phi-phi_n))\n",
    "    #override new potential\n",
    "    phi = phi_n\n",
    "    \n",
    "\n",
    "#plot electric potential of the plate capacitor\n",
    "fig, ax = plt.subplots()\n",
    "ax.set_xlim(0.0, 1.0)\n",
    "ax.set_ylim(0.0, 1.0)\n",
    "#use colour plot for visualization\n",
    "c = ax.pcolormesh(X,Y,phi, cmap=\"RdBu\", vmin=-1, vmax=1)\n",
    "ax.set_xlabel(\"x\")\n",
    "ax.set_ylabel(\"y\")\n",
    "ax.set_title(\"Electric potential of a plate capacitor\")\n",
    "ax.grid()\n",
    "#plot colorbar at the side\n",
    "fig.colorbar(c, ax=ax)\n",
    "plt.show()\n",
    "\n",
    "#calculate electric field as the gradient of the potential\n",
    "Ey, Ex = np.gradient(-phi, x[1]-x[0], y[1]-y[0])\n",
    "#plot electric field\n",
    "fig1, ax1 = plt.subplots()\n",
    "#plot electric potential for comparison\n",
    "c1 = ax1.pcolormesh(X,Y, phi, cmap=\"RdBu\", vmin=-1, vmax=1)\n",
    "ax1.set_xlabel(\"x\")\n",
    "ax1.set_ylabel(\"y\")\n",
    "ax1.set_title(\"Electric field of a plate capacitor\")\n",
    "#plot electric potential as a vectorfield\n",
    "ax1.streamplot(X, Y, Ex, Ey, color='black', density=0.5)\n",
    "fig.colorbar(c1, ax=ax1)\n",
    "fig.show()"
   ]
  },
  {
   "cell_type": "markdown",
   "metadata": {
    "tags": []
   },
   "source": [
    "## 4. Word doubling (15 points)\n",
    "\n",
    "This task results in a very practical program which you can use when you write your next larger text (thesis, publication etc.).\n",
    "\n",
    "When writing a text, we often make the mistake to repeat a word.\n",
    "\n",
    "   ```\n",
    "   When typing longer texts, we often often make the mistake to\n",
    "   repeat individual words such as here here.\n",
    "\n",
    "   ```\n",
    "   \n",
    "Write a program which reads a text file and marks positions with such mistakes. You should print lines and linenumbers with double words. Consider also cases where a word doubling occurs directly before and after a line break.\n",
    "\n",
    "You can find a short example text for test purposes [here](data/double_words.txt).\n",
    "\n",
    "**Note:**\n",
    "An obvious ansatz for the problem is to read a line, to split it according to spaces, tabulators and line breaks and to perform the double word test. This, however is no complete solution to the problem! Consider again the above example:\n",
    "\n",
    "   ```\n",
    "   ... such as here here.\n",
    "   ```\n",
    "   \n",
    "The double word `here` would not be recognised because the second one is directly followed by a dot (end of sentence mark). There are similar issues with other punctuation marks such as semicolons, parentheses and so on. See the following cell for a possibility to take this into account.\n",
    "\n",
    "**Example:** The [example text](data/double_words.txt) gives the follwing output with my code:\n",
    "```\n",
    "Repetition in line 1. Word \"often\" at position 6!\n",
    "Repetition in line 2. Word \"here\" at position 6!\n",
    "Repetition of the first word \"words\" on line 5. It occured at the end of the previous (non-empty) line!\n",
    "Repetition of the first word \"test\" on line 9. It occured at the end of the previous (non-empty) line!\n",
    "\n",
    "```"
   ]
  },
  {
   "cell_type": "code",
   "execution_count": 2,
   "metadata": {},
   "outputs": [
    {
     "name": "stdout",
     "output_type": "stream",
     "text": [
      "['Here', 'some', 'text', 'with', 'double', 'double', 'words', 'words', 'It', 'also', 'contains', 'puctuation', '']\n"
     ]
    }
   ],
   "source": [
    "# example to split a string into words taking into account\n",
    "# (removing) punctuation.\n",
    "# For time reasons, we will not treat 'regular expressions' in class\n",
    "# but you should look them up yourself! You should know them from\n",
    "# Linux already.\n",
    "\n",
    "import re # module to handle regular expressions in a Python program\n",
    "\n",
    "s = \"Here some text with double (double!) words words. It also contains puctuation!\"\n",
    "\n",
    "# split s into its words without the punctuation marks; note that\n",
    "# you might end up with empty strings in the word list!\n",
    "words = re.split('\\W+', s.rstrip())\n",
    "\n",
    "print(words)"
   ]
  },
  {
   "cell_type": "code",
   "execution_count": 3,
   "metadata": {},
   "outputs": [
    {
     "name": "stdout",
     "output_type": "stream",
     "text": [
      "Repetition in line 1. Word \"often\" at position 6!\n",
      "Repetition in line 2. Word \"here\" at position 6!\n",
      "Repetition of the first word \"Here\" on line 4. It occured at the end of the previous (non-empty) line!\n",
      "Repetition of the first word \"words\" on line 5. It occured at the end of the previous (non-empty) line!\n",
      "Repetition of the first word \"test\" on line 9. It occured at the end of the previous (non-empty) line!\n"
     ]
    }
   ],
   "source": [
    "# Your solution here please\n",
    "import re\n",
    "\n",
    "with open(\"data/double_words.txt\", 'r') as textfile: # read (write, append)\n",
    "    last_word = \"\"\n",
    "    for linenumber, line in enumerate(textfile):\n",
    "        words = re.split('\\W+', line.rstrip()) # splits in single words\n",
    "        for i in range(len(words)): # iterates through each word in line\n",
    "            if words[i] != \"\": # ignore empty lines adn end of lines\n",
    "                if words[i].lower() == last_word.lower(): # compare last word with word such that capital letters will also be found, but can be removed to give same result as above\n",
    "                    if i == 0: # if new line --> print this text\n",
    "                        print(f\"Repetition of the first word \\\"{words[i]}\\\" on line {linenumber+1}. It occured at the end of the previous (non-empty) line!\")\n",
    "                    else:\n",
    "                        print(f\"Repetition in line {linenumber+1}. Word \\\"{words[i]}\\\" at position {i}!\")\n",
    "                last_word = words[i]"
   ]
  },
  {
   "cell_type": "raw",
   "metadata": {},
   "source": []
  }
 ],
 "metadata": {
  "celltoolbar": "Create Assignment",
  "kernelspec": {
   "display_name": "Python 3 (ipykernel)",
   "language": "python",
   "name": "python3"
  },
  "language_info": {
   "codemirror_mode": {
    "name": "ipython",
    "version": 3
   },
   "file_extension": ".py",
   "mimetype": "text/x-python",
   "name": "python",
   "nbconvert_exporter": "python",
   "pygments_lexer": "ipython3",
   "version": "3.9.10"
  }
 },
 "nbformat": 4,
 "nbformat_minor": 4
}
